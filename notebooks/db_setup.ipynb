{
 "cells": [
  {
   "cell_type": "code",
   "execution_count": 1,
   "metadata": {},
   "outputs": [
    {
     "data": {
      "text/plain": [
       "True"
      ]
     },
     "execution_count": 1,
     "metadata": {},
     "output_type": "execute_result"
    }
   ],
   "source": [
    "import os\n",
    "\n",
    "import psycopg2\n",
    "import dotenv\n",
    "import pandas as pd \n",
    "from sqlalchemy import create_engine \n",
    "\n",
    "dotenv.load_dotenv()"
   ]
  },
  {
   "cell_type": "code",
   "execution_count": 2,
   "metadata": {},
   "outputs": [],
   "source": [
    "engine = create_engine(os.getenv(\"DB_CONNECT\"))"
   ]
  },
  {
   "cell_type": "code",
   "execution_count": 3,
   "metadata": {},
   "outputs": [],
   "source": [
    "conn = psycopg2.connect(                                                  \n",
    "    user = os.getenv(\"DB_USERNAME\"),                                      \n",
    "    password = os.getenv(\"DB_PASSWORD\"),                                  \n",
    "    host = os.getenv(\"DB_HOST\"),\n",
    "    port = os.getenv(\"DB_PORT\"),                                          \n",
    "    database = os.getenv(\"DB_NAME\")                                                                           \n",
    ")      "
   ]
  },
  {
   "cell_type": "code",
   "execution_count": 4,
   "metadata": {},
   "outputs": [
    {
     "name": "stderr",
     "output_type": "stream",
     "text": [
      "C:\\Users\\Luka Vranjes\\AppData\\Local\\Temp\\ipykernel_10484\\4173720797.py:1: DtypeWarning: Columns (6) have mixed types. Specify dtype option on import or set low_memory=False.\n",
      "  df_games_details = pd.read_csv(\"../Data/games_details.csv\")\n"
     ]
    }
   ],
   "source": [
    "df_games_details = pd.read_csv(\"../Data/games_details.csv\")\n",
    "df_games = pd.read_csv(\"../Data/games.csv\")\n",
    "df_players = pd.read_csv(\"../Data/players.csv\")\n",
    "df_ranking = pd.read_csv(\"../Data/ranking.csv\")\n",
    "df_teams = pd.read_csv(\"../Data/teams.csv\")"
   ]
  },
  {
   "cell_type": "code",
   "execution_count": 6,
   "metadata": {},
   "outputs": [],
   "source": [
    "df_games = df_games.drop([\"GAME_STATUS_TEXT\", \"TEAM_ID_home\", \"TEAM_ID_away\"], axis=1)"
   ]
  },
  {
   "cell_type": "code",
   "execution_count": null,
   "metadata": {},
   "outputs": [],
   "source": [
    "df_games.columns"
   ]
  },
  {
   "cell_type": "code",
   "execution_count": 7,
   "metadata": {},
   "outputs": [],
   "source": [
    "df_games = df_games.rename(columns={'PTS_home': \"points_scored_home_team\", 'FG_PCT_home': 'field_goal_percentage_home_team', 'FT_PCT_home': 'free_throw_percentage_home_team', 'FG3_PCT_home': \"three_point_percentage_home_team\", 'AST_home': 'assists_home_team',\n",
    "       'REB_home': 'rebounds_home_team', 'PTS_away': \"points_scored_away_team\", 'FG_PCT_away': \"field_goal_percentage_away_team\", 'FT_PCT_away': 'free_throw_percentage_away_team',\n",
    "       'FG3_PCT_away': \"three_point_percentage_away_team\", 'AST_away': 'assists_away_team', 'REB_away': 'rebounds_away_team'})"
   ]
  },
  {
   "cell_type": "code",
   "execution_count": 8,
   "metadata": {},
   "outputs": [
    {
     "data": {
      "text/plain": [
       "651"
      ]
     },
     "execution_count": 8,
     "metadata": {},
     "output_type": "execute_result"
    }
   ],
   "source": [
    "df_games.to_sql(name=\"general_game_details\", con=engine, if_exists='replace', index=False)"
   ]
  },
  {
   "cell_type": "code",
   "execution_count": null,
   "metadata": {},
   "outputs": [],
   "source": []
  },
  {
   "cell_type": "code",
   "execution_count": 12,
   "metadata": {},
   "outputs": [],
   "source": [
    "df_games_details = df_games_details.drop([\"COMMENT\", \"START_POSITION\"], axis=1)"
   ]
  },
  {
   "cell_type": "code",
   "execution_count": 13,
   "metadata": {},
   "outputs": [
    {
     "data": {
      "text/plain": [
       "Index(['GAME_ID', 'TEAM_ID', 'TEAM_ABBREVIATION', 'TEAM_CITY', 'PLAYER_ID',\n",
       "       'PLAYER_NAME', 'NICKNAME', 'MIN', 'FGM', 'FGA', 'FG_PCT', 'FG3M',\n",
       "       'FG3A', 'FG3_PCT', 'FTM', 'FTA', 'FT_PCT', 'OREB', 'DREB', 'REB', 'AST',\n",
       "       'STL', 'BLK', 'TO', 'PF', 'PTS', 'PLUS_MINUS'],\n",
       "      dtype='object')"
      ]
     },
     "execution_count": 13,
     "metadata": {},
     "output_type": "execute_result"
    }
   ],
   "source": [
    "df_games_details.columns"
   ]
  },
  {
   "cell_type": "code",
   "execution_count": 18,
   "metadata": {},
   "outputs": [],
   "source": [
    "df_games_details[\"MIN\"] = df_games_details[\"MIN\"].fillna(\"0:00\")"
   ]
  },
  {
   "cell_type": "code",
   "execution_count": 29,
   "metadata": {},
   "outputs": [],
   "source": [
    "df_games_details = df_games_details.dropna()"
   ]
  },
  {
   "cell_type": "code",
   "execution_count": 30,
   "metadata": {},
   "outputs": [],
   "source": [
    "df_games_details = df_games_details.rename(columns={'MIN': \"minutes_played\", 'FGM': \"field_goals_made\", 'FGA': \"field_goals_attempted\",\n",
    "       'FG_PCT': \"field_goal_percentage\", 'FG3M': \"three_pointers_made\", 'FG3A': \"three_pointers_attempted\", 'FG3_PCT': \"three_pointers_percentage\", 'FTM': \"free_throws_made\", 'FTA': \"free_throws_attempted\", 'FT_PCT': \"free_throws_percentage\", \n",
    "       'OREB': \"offensive_rebounds\",'DREB': \"defensive_rebounds\", 'REB': \"rebounds\", 'AST': \"assists\", 'STL': \"stalls\", 'BLK': \"blocked_shots\", 'TO': \"turnovers\", 'PF': \"personal_fouls\", 'PTS': \"points_scored\"})"
   ]
  },
  {
   "cell_type": "code",
   "execution_count": 31,
   "metadata": {},
   "outputs": [
    {
     "data": {
      "text/plain": [
       "396"
      ]
     },
     "execution_count": 31,
     "metadata": {},
     "output_type": "execute_result"
    }
   ],
   "source": [
    "df_games_details.to_sql(name=\"player_game_details\", con=engine, if_exists='replace', index=False)"
   ]
  },
  {
   "cell_type": "code",
   "execution_count": null,
   "metadata": {},
   "outputs": [],
   "source": []
  },
  {
   "cell_type": "code",
   "execution_count": 36,
   "metadata": {},
   "outputs": [
    {
     "data": {
      "text/plain": [
       "228"
      ]
     },
     "execution_count": 36,
     "metadata": {},
     "output_type": "execute_result"
    }
   ],
   "source": [
    "df_players.to_sql(name=\"player_general_details\", con=engine, if_exists='replace', index=False)"
   ]
  },
  {
   "cell_type": "code",
   "execution_count": null,
   "metadata": {},
   "outputs": [],
   "source": []
  },
  {
   "cell_type": "code",
   "execution_count": 38,
   "metadata": {},
   "outputs": [],
   "source": [
    "df_ranking = df_ranking.drop([\"RETURNTOPLAY\"], axis=1)"
   ]
  },
  {
   "cell_type": "code",
   "execution_count": 39,
   "metadata": {},
   "outputs": [
    {
     "data": {
      "text/plain": [
       "Index(['TEAM_ID', 'LEAGUE_ID', 'SEASON_ID', 'STANDINGSDATE', 'CONFERENCE',\n",
       "       'TEAM', 'G', 'W', 'L', 'W_PCT', 'HOME_RECORD', 'ROAD_RECORD'],\n",
       "      dtype='object')"
      ]
     },
     "execution_count": 39,
     "metadata": {},
     "output_type": "execute_result"
    }
   ],
   "source": [
    "df_ranking.columns"
   ]
  },
  {
   "cell_type": "code",
   "execution_count": 40,
   "metadata": {},
   "outputs": [],
   "source": [
    "df_ranking = df_games_details.rename(columns={'TEAM': \"team_name\", 'G': \"games_played\", 'W': \"games_won\", 'L': \"games_lost\", 'W_PCT': \"win_percentage\"})"
   ]
  },
  {
   "cell_type": "code",
   "execution_count": 41,
   "metadata": {},
   "outputs": [
    {
     "data": {
      "text/plain": [
       "396"
      ]
     },
     "execution_count": 41,
     "metadata": {},
     "output_type": "execute_result"
    }
   ],
   "source": [
    "df_ranking.to_sql(name=\"team_rankings\", con=engine, if_exists='replace', index=False)"
   ]
  },
  {
   "cell_type": "code",
   "execution_count": null,
   "metadata": {},
   "outputs": [],
   "source": []
  },
  {
   "cell_type": "code",
   "execution_count": 43,
   "metadata": {},
   "outputs": [],
   "source": [
    "df_teams = df_teams.drop([\"LEAGUE_ID\", \"MIN_YEAR\", \"MAX_YEAR\", \"YEARFOUNDED\", \"DLEAGUEAFFILIATION\"], axis=1)"
   ]
  },
  {
   "cell_type": "code",
   "execution_count": 44,
   "metadata": {},
   "outputs": [
    {
     "data": {
      "text/plain": [
       "Index(['TEAM_ID', 'ABBREVIATION', 'NICKNAME', 'CITY', 'ARENA', 'ARENACAPACITY',\n",
       "       'OWNER', 'GENERALMANAGER', 'HEADCOACH'],\n",
       "      dtype='object')"
      ]
     },
     "execution_count": 44,
     "metadata": {},
     "output_type": "execute_result"
    }
   ],
   "source": [
    "df_teams.columns"
   ]
  },
  {
   "cell_type": "code",
   "execution_count": 45,
   "metadata": {},
   "outputs": [
    {
     "data": {
      "text/plain": [
       "30"
      ]
     },
     "execution_count": 45,
     "metadata": {},
     "output_type": "execute_result"
    }
   ],
   "source": [
    "df_teams.to_sql(name=\"team_general_details\", con=engine, if_exists='replace', index=False)"
   ]
  }
 ],
 "metadata": {
  "kernelspec": {
   "display_name": "env",
   "language": "python",
   "name": "python3"
  },
  "language_info": {
   "codemirror_mode": {
    "name": "ipython",
    "version": 3
   },
   "file_extension": ".py",
   "mimetype": "text/x-python",
   "name": "python",
   "nbconvert_exporter": "python",
   "pygments_lexer": "ipython3",
   "version": "3.12.0"
  }
 },
 "nbformat": 4,
 "nbformat_minor": 2
}
