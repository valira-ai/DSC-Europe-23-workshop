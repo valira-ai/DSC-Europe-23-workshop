{
 "cells": [
  {
   "cell_type": "code",
   "execution_count": null,
   "metadata": {},
   "outputs": [],
   "source": [
    "import os\n",
    "\n",
    "import dotenv\n",
    "import pandas as pd \n",
    "from sqlalchemy import create_engine "
   ]
  },
  {
   "cell_type": "code",
   "execution_count": null,
   "metadata": {},
   "outputs": [],
   "source": [
    "dotenv.load_dotenv()"
   ]
  },
  {
   "cell_type": "code",
   "execution_count": null,
   "metadata": {},
   "outputs": [],
   "source": [
    "engine = create_engine(os.getenv(\"DB_CONNECT\"))"
   ]
  },
  {
   "cell_type": "code",
   "execution_count": null,
   "metadata": {},
   "outputs": [],
   "source": [
    "df_games_details = pd.read_csv(\"../Data/games_details.csv\")\n",
    "df_games = pd.read_csv(\"../Data/games.csv\")\n",
    "df_players = pd.read_csv(\"../Data/players.csv\")\n",
    "df_ranking = pd.read_csv(\"../Data/ranking.csv\")\n",
    "df_teams = pd.read_csv(\"../Data/teams.csv\")"
   ]
  },
  {
   "cell_type": "code",
   "execution_count": null,
   "metadata": {},
   "outputs": [],
   "source": [
    "df_games = df_games.drop([\"GAME_STATUS_TEXT\", \"TEAM_ID_home\", \"TEAM_ID_away\"], axis=1)"
   ]
  },
  {
   "cell_type": "code",
   "execution_count": null,
   "metadata": {},
   "outputs": [],
   "source": [
    "df_games.columns"
   ]
  },
  {
   "cell_type": "code",
   "execution_count": null,
   "metadata": {},
   "outputs": [],
   "source": [
    "df_games = df_games.rename(columns={'PTS_home': \"points_scored_home_team\", 'FG_PCT_home': 'field_goal_percentage_home_team', 'FT_PCT_home': 'free_throw_percentage_home_team', 'FG3_PCT_home': \"three_point_percentage_home_team\", 'AST_home': 'assists_home_team',\n",
    "       'REB_home': 'rebounds_home_team', 'PTS_away': \"points_scored_away_team\", 'FG_PCT_away': \"field_goal_percentage_away_team\", 'FT_PCT_away': 'free_throw_percentage_away_team',\n",
    "       'FG3_PCT_away': \"three_point_percentage_away_team\", 'AST_away': 'assists_away_team', 'REB_away': 'rebounds_away_team'})"
   ]
  },
  {
   "cell_type": "code",
   "execution_count": null,
   "metadata": {},
   "outputs": [],
   "source": [
    "df_games.to_sql(name=\"general_game_details\", con=engine, if_exists='replace', index=False)"
   ]
  },
  {
   "cell_type": "code",
   "execution_count": null,
   "metadata": {},
   "outputs": [],
   "source": []
  },
  {
   "cell_type": "code",
   "execution_count": null,
   "metadata": {},
   "outputs": [],
   "source": [
    "df_games_details = df_games_details.drop([\"COMMENT\", \"START_POSITION\"], axis=1)"
   ]
  },
  {
   "cell_type": "code",
   "execution_count": null,
   "metadata": {},
   "outputs": [],
   "source": [
    "df_games_details.columns"
   ]
  },
  {
   "cell_type": "code",
   "execution_count": null,
   "metadata": {},
   "outputs": [],
   "source": [
    "df_games_details[\"MIN\"] = df_games_details[\"MIN\"].fillna(\"0:00\")"
   ]
  },
  {
   "cell_type": "code",
   "execution_count": null,
   "metadata": {},
   "outputs": [],
   "source": [
    "df_games_details = df_games_details.dropna()"
   ]
  },
  {
   "cell_type": "code",
   "execution_count": null,
   "metadata": {},
   "outputs": [],
   "source": [
    "df_games_details = df_games_details.rename(columns={'MIN': \"minutes_played\", 'FGM': \"field_goals_made\", 'FGA': \"field_goals_attempted\",\n",
    "       'FG_PCT': \"field_goal_percentage\", 'FG3M': \"three_pointers_made\", 'FG3A': \"three_pointers_attempted\", 'FG3_PCT': \"three_pointers_percentage\", 'FTM': \"free_throws_made\", 'FTA': \"free_throws_attempted\", 'FT_PCT': \"free_throws_percentage\", \n",
    "       'OREB': \"offensive_rebounds\",'DREB': \"defensive_rebounds\", 'REB': \"rebounds\", 'AST': \"assists\", 'STL': \"stalls\", 'BLK': \"blocked_shots\", 'TO': \"turnovers\", 'PF': \"personal_fouls\", 'PTS': \"points_scored\"})"
   ]
  },
  {
   "cell_type": "code",
   "execution_count": null,
   "metadata": {},
   "outputs": [],
   "source": [
    "df_games_details.to_sql(name=\"player_game_details\", con=engine, if_exists='replace', index=False)"
   ]
  },
  {
   "cell_type": "code",
   "execution_count": null,
   "metadata": {},
   "outputs": [],
   "source": []
  },
  {
   "cell_type": "code",
   "execution_count": null,
   "metadata": {},
   "outputs": [],
   "source": [
    "df_players.to_sql(name=\"player_general_details\", con=engine, if_exists='replace', index=False)"
   ]
  },
  {
   "cell_type": "code",
   "execution_count": null,
   "metadata": {},
   "outputs": [],
   "source": []
  },
  {
   "cell_type": "code",
   "execution_count": null,
   "metadata": {},
   "outputs": [],
   "source": [
    "df_ranking = df_ranking.drop([\"RETURNTOPLAY\"], axis=1)"
   ]
  },
  {
   "cell_type": "code",
   "execution_count": null,
   "metadata": {},
   "outputs": [],
   "source": [
    "df_ranking.columns"
   ]
  },
  {
   "cell_type": "code",
   "execution_count": null,
   "metadata": {},
   "outputs": [],
   "source": [
    "df_ranking = df_games_details.rename(columns={'TEAM': \"team_name\", 'G': \"games_played\", 'W': \"games_won\", 'L': \"games_lost\", 'W_PCT': \"win_percentage\"})"
   ]
  },
  {
   "cell_type": "code",
   "execution_count": null,
   "metadata": {},
   "outputs": [],
   "source": [
    "df_ranking.to_sql(name=\"team_rankings\", con=engine, if_exists='replace', index=False)"
   ]
  },
  {
   "cell_type": "code",
   "execution_count": null,
   "metadata": {},
   "outputs": [],
   "source": []
  },
  {
   "cell_type": "code",
   "execution_count": null,
   "metadata": {},
   "outputs": [],
   "source": [
    "df_teams = df_teams.drop([\"LEAGUE_ID\", \"MIN_YEAR\", \"MAX_YEAR\", \"YEARFOUNDED\", \"DLEAGUEAFFILIATION\"], axis=1)"
   ]
  },
  {
   "cell_type": "code",
   "execution_count": null,
   "metadata": {},
   "outputs": [],
   "source": [
    "df_teams.columns"
   ]
  },
  {
   "cell_type": "code",
   "execution_count": null,
   "metadata": {},
   "outputs": [],
   "source": [
    "df_teams.to_sql(name=\"team_general_details\", con=engine, if_exists='replace', index=False)"
   ]
  }
 ],
 "metadata": {
  "kernelspec": {
   "display_name": "env",
   "language": "python",
   "name": "python3"
  },
  "language_info": {
   "codemirror_mode": {
    "name": "ipython",
    "version": 3
   },
   "file_extension": ".py",
   "mimetype": "text/x-python",
   "name": "python",
   "nbconvert_exporter": "python",
   "pygments_lexer": "ipython3",
   "version": "3.9.6"
  }
 },
 "nbformat": 4,
 "nbformat_minor": 2
}
