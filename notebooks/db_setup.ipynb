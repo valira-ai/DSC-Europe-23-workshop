{
 "cells": [
  {
   "cell_type": "code",
   "execution_count": null,
   "metadata": {},
   "outputs": [],
   "source": [
    "import os\n",
    "\n",
    "import dotenv\n",
    "import pandas as pd\n",
    "from sqlalchemy import create_engine"
   ]
  },
  {
   "cell_type": "code",
   "execution_count": null,
   "metadata": {},
   "outputs": [],
   "source": [
    "dotenv.load_dotenv()"
   ]
  },
  {
   "cell_type": "code",
   "execution_count": null,
   "metadata": {},
   "outputs": [],
   "source": [
    "engine = create_engine(os.getenv(\"DB_CONNECT\"))"
   ]
  },
  {
   "cell_type": "code",
   "execution_count": null,
   "metadata": {},
   "outputs": [],
   "source": [
    "df_games_details = pd.read_csv(\"../Data/games_details.csv\")\n",
    "df_games = pd.read_csv(\"../Data/games.csv\")\n",
    "df_players = pd.read_csv(\"../Data/players.csv\")\n",
    "df_ranking = pd.read_csv(\"../Data/ranking.csv\")\n",
    "df_teams = pd.read_csv(\"../Data/teams.csv\")"
   ]
  },
  {
   "cell_type": "code",
   "execution_count": null,
   "metadata": {},
   "outputs": [],
   "source": [
    "df_games = df_games.drop([\"GAME_STATUS_TEXT\", \"TEAM_ID_home\", \"TEAM_ID_away\"], axis=1)"
   ]
  },
  {
   "cell_type": "code",
   "execution_count": null,
   "metadata": {},
   "outputs": [],
   "source": [
    "df_games.columns"
   ]
  },
  {
   "cell_type": "code",
   "execution_count": null,
   "metadata": {},
   "outputs": [],
   "source": [
    "df_games = df_games.rename(\n",
    "    columns={\n",
    "        \"PTS_home\": \"points_scored_home_team\",\n",
    "        \"FG_PCT_home\": \"field_goal_percentage_home_team\",\n",
    "        \"FT_PCT_home\": \"free_throw_percentage_home_team\",\n",
    "        \"FG3_PCT_home\": \"three_point_percentage_home_team\",\n",
    "        \"AST_home\": \"assists_home_team\",\n",
    "        \"REB_home\": \"rebounds_home_team\",\n",
    "        \"PTS_away\": \"points_scored_away_team\",\n",
    "        \"FG_PCT_away\": \"field_goal_percentage_away_team\",\n",
    "        \"FT_PCT_away\": \"free_throw_percentage_away_team\",\n",
    "        \"FG3_PCT_away\": \"three_point_percentage_away_team\",\n",
    "        \"AST_away\": \"assists_away_team\",\n",
    "        \"REB_away\": \"rebounds_away_team\",\n",
    "        \"GAME_DATE_EST\": \"game_date_est\",\n",
    "        \"GAME_ID\": \"game_id\",\n",
    "        \"HOME_TEAM_ID\": \"home_team_id\",\n",
    "        \"VISITOR_TEAM_ID\": \"visitor_team_id\",\n",
    "        \"SEASON\": \"season\",\n",
    "        \"HOME_TEAM_WINS\": \"home_team_wins\",\n",
    "    }\n",
    ")"
   ]
  },
  {
   "cell_type": "code",
   "execution_count": null,
   "metadata": {},
   "outputs": [],
   "source": [
    "df_games.to_sql(\n",
    "    name=\"general_game_details\", con=engine, if_exists=\"replace\", index=False\n",
    ")"
   ]
  },
  {
   "cell_type": "code",
   "execution_count": null,
   "metadata": {},
   "outputs": [],
   "source": []
  },
  {
   "cell_type": "code",
   "execution_count": null,
   "metadata": {},
   "outputs": [],
   "source": [
    "df_games_details = df_games_details.drop(\n",
    "    [\"COMMENT\", \"START_POSITION\", \"PLUS_MINUS\"], axis=1\n",
    ")"
   ]
  },
  {
   "cell_type": "code",
   "execution_count": null,
   "metadata": {},
   "outputs": [],
   "source": [
    "df_games_details.columns"
   ]
  },
  {
   "cell_type": "code",
   "execution_count": null,
   "metadata": {},
   "outputs": [],
   "source": [
    "df_games_details[\"MIN\"] = df_games_details[\"MIN\"].fillna(\"0:00\")"
   ]
  },
  {
   "cell_type": "code",
   "execution_count": null,
   "metadata": {},
   "outputs": [],
   "source": [
    "df_games_details = df_games_details.dropna()"
   ]
  },
  {
   "cell_type": "code",
   "execution_count": null,
   "metadata": {},
   "outputs": [],
   "source": [
    "df_games_details = df_games_details.rename(\n",
    "    columns={\n",
    "        \"MIN\": \"minutes_played\",\n",
    "        \"FGM\": \"field_goals_made\",\n",
    "        \"FGA\": \"field_goals_attempted\",\n",
    "        \"FG_PCT\": \"field_goal_percentage\",\n",
    "        \"FG3M\": \"three_pointers_made\",\n",
    "        \"FG3A\": \"three_pointers_attempted\",\n",
    "        \"FG3_PCT\": \"three_pointers_percentage\",\n",
    "        \"FTM\": \"free_throws_made\",\n",
    "        \"FTA\": \"free_throws_attempted\",\n",
    "        \"FT_PCT\": \"free_throws_percentage\",\n",
    "        \"OREB\": \"offensive_rebounds\",\n",
    "        \"DREB\": \"defensive_rebounds\",\n",
    "        \"REB\": \"rebounds\",\n",
    "        \"AST\": \"assists\",\n",
    "        \"STL\": \"stalls\",\n",
    "        \"BLK\": \"blocked_shots\",\n",
    "        \"TO\": \"turnovers\",\n",
    "        \"PF\": \"personal_fouls\",\n",
    "        \"PTS\": \"points_scored\",\n",
    "        \"GAME_ID\": \"game_id\",\n",
    "        \"TEAM_ID\": \"team_id\",\n",
    "        \"TEAM_ABBREVIATION\": \"team_abbreviation\",\n",
    "        \"TEAM_CITY\": \"team_city\",\n",
    "        \"PLAYER_ID\": \"player_id\",\n",
    "        \"PLAYER_NAME\": \"player_name\",\n",
    "        \"NICKNAME\": \"nickname\",\n",
    "    }\n",
    ")"
   ]
  },
  {
   "cell_type": "code",
   "execution_count": null,
   "metadata": {},
   "outputs": [],
   "source": [
    "df_games_details.to_sql(\n",
    "    name=\"player_game_details\", con=engine, if_exists=\"replace\", index=False\n",
    ")"
   ]
  },
  {
   "cell_type": "code",
   "execution_count": null,
   "metadata": {},
   "outputs": [],
   "source": []
  },
  {
   "cell_type": "code",
   "execution_count": null,
   "metadata": {},
   "outputs": [],
   "source": [
    "df_players.columns"
   ]
  },
  {
   "cell_type": "code",
   "execution_count": null,
   "metadata": {},
   "outputs": [],
   "source": [
    "df_players = df_players.rename(\n",
    "    columns={\n",
    "        \"PLAYER_NAME\": \"player_name\",\n",
    "        \"TEAM_ID\": \"team_id\",\n",
    "        \"PLAYER_ID\": \"player_id\",\n",
    "        \"SEASON\": \"season\",\n",
    "    }\n",
    ")"
   ]
  },
  {
   "cell_type": "code",
   "execution_count": null,
   "metadata": {},
   "outputs": [],
   "source": [
    "df_players.to_sql(\n",
    "    name=\"player_general_details\", con=engine, if_exists=\"replace\", index=False\n",
    ")"
   ]
  },
  {
   "cell_type": "code",
   "execution_count": null,
   "metadata": {},
   "outputs": [],
   "source": []
  },
  {
   "cell_type": "code",
   "execution_count": null,
   "metadata": {},
   "outputs": [],
   "source": [
    "df_ranking = df_ranking.drop([\"RETURNTOPLAY\"], axis=1)"
   ]
  },
  {
   "cell_type": "code",
   "execution_count": null,
   "metadata": {},
   "outputs": [],
   "source": [
    "df_ranking.columns"
   ]
  },
  {
   "cell_type": "code",
   "execution_count": null,
   "metadata": {},
   "outputs": [],
   "source": [
    "df_ranking = df_ranking.rename(\n",
    "    columns={\n",
    "        \"TEAM\": \"team_name\",\n",
    "        \"G\": \"games_played\",\n",
    "        \"W\": \"games_won\",\n",
    "        \"L\": \"games_lost\",\n",
    "        \"W_PCT\": \"win_percentage\",\n",
    "        \"TEAM_ID\": \"team_id\",\n",
    "        \"LEAGUE_ID\": \"league_id\",\n",
    "        \"SEASON_ID\": \"season_id\",\n",
    "        \"STANDINGSDATE\": \"standingsdate\",\n",
    "        \"CONFERENCE\": \"conference\",\n",
    "        \"TEAM\": \"team\",\n",
    "        \"HOME_RECORD\": \"home_record\",\n",
    "        \"ROAD_RECORD\": \"road_record\",\n",
    "    }\n",
    ")"
   ]
  },
  {
   "cell_type": "code",
   "execution_count": null,
   "metadata": {},
   "outputs": [],
   "source": [
    "df_ranking.to_sql(name=\"team_rankings\", con=engine, if_exists=\"replace\", index=False)"
   ]
  },
  {
   "cell_type": "code",
   "execution_count": null,
   "metadata": {},
   "outputs": [],
   "source": []
  },
  {
   "cell_type": "code",
   "execution_count": 34,
   "metadata": {},
   "outputs": [],
   "source": [
    "df_teams = df_teams.drop(\n",
    "    [\"LEAGUE_ID\", \"MIN_YEAR\", \"MAX_YEAR\", \"YEARFOUNDED\", \"DLEAGUEAFFILIATION\"], axis=1\n",
    ")"
   ]
  },
  {
   "cell_type": "code",
   "execution_count": 35,
   "metadata": {},
   "outputs": [
    {
     "data": {
      "text/plain": [
       "Index(['team_id', 'abbreviation', 'nickname', 'city', 'arena',\n",
       "       'arena_capacity', 'owner', 'general_manager', 'headcoach'],\n",
       "      dtype='object')"
      ]
     },
     "execution_count": 35,
     "metadata": {},
     "output_type": "execute_result"
    }
   ],
   "source": [
    "df_teams.columns"
   ]
  },
  {
   "cell_type": "code",
   "execution_count": null,
   "metadata": {},
   "outputs": [],
   "source": [
    "df_teams = df_teams.rename(\n",
    "    columns={\n",
    "        \"TEAM_ID\": \"team_id\",\n",
    "        \"ABBREVIATION\": \"abbreviation\",\n",
    "        \"NICKNAME\": \"nickname\",\n",
    "        \"CITY\": \"city\",\n",
    "        \"ARENA\": \"arena\",\n",
    "        \"ARENACAPACITY\": \"arena_capacity\",\n",
    "        \"OWNER\": \"owner\",\n",
    "        \"GENERALMANAGER\": \"general_manager\",\n",
    "        \"HEADCOACH\": \"headcoach\",\n",
    "    }\n",
    ")"
   ]
  },
  {
   "cell_type": "code",
   "execution_count": 36,
   "metadata": {},
   "outputs": [
    {
     "data": {
      "text/plain": [
       "30"
      ]
     },
     "execution_count": 36,
     "metadata": {},
     "output_type": "execute_result"
    }
   ],
   "source": [
    "df_teams.to_sql(\n",
    "    name=\"team_general_details\", con=engine, if_exists=\"replace\", index=False\n",
    ")"
   ]
  }
 ],
 "metadata": {
  "kernelspec": {
   "display_name": "env",
   "language": "python",
   "name": "python3"
  },
  "language_info": {
   "codemirror_mode": {
    "name": "ipython",
    "version": 3
   },
   "file_extension": ".py",
   "mimetype": "text/x-python",
   "name": "python",
   "nbconvert_exporter": "python",
   "pygments_lexer": "ipython3",
   "version": "3.9.6"
  }
 },
 "nbformat": 4,
 "nbformat_minor": 2
}
