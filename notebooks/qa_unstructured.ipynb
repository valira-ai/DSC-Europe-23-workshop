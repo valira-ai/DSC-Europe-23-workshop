{
 "cells": [
  {
   "cell_type": "markdown",
   "metadata": {},
   "source": [
    "# QA over unstructured data\n",
    "This notebook presents the task of question-answering over unstructured data (e.g. PDFs, content from websites, etc.).\n",
    "\n",
    "Our goal is to build an NBA assistant bot that can answer questions regarding NBA, NBA rules, players, etc."
   ]
  },
  {
   "cell_type": "code",
   "execution_count": null,
   "metadata": {},
   "outputs": [],
   "source": [
    "import bs4\n",
    "import dotenv\n",
    "import tiktoken\n",
    "\n",
    "from langchain.chat_models import ChatOpenAI\n",
    "from langchain.document_loaders import WebBaseLoader, WikipediaLoader\n",
    "from langchain.embeddings import OpenAIEmbeddings\n",
    "from langchain.schema import StrOutputParser\n",
    "from langchain.schema.runnable import RunnablePassthrough\n",
    "from langchain.prompts import PromptTemplate\n",
    "from langchain.text_splitter import RecursiveCharacterTextSplitter\n",
    "from langchain.vectorstores import FAISS"
   ]
  },
  {
   "cell_type": "code",
   "execution_count": null,
   "metadata": {},
   "outputs": [],
   "source": [
    "dotenv.load_dotenv()"
   ]
  },
  {
   "cell_type": "markdown",
   "metadata": {},
   "source": [
    "## Document loading\n",
    "First step of indexing is loading the documents - this is the data that we want the LLM to see when answering the questions.\n",
    "\n",
    "In our example we are using two data sources: official NBA rulebook and a small set of Wikipedia articles regarding the general topic of NBA."
   ]
  },
  {
   "cell_type": "code",
   "execution_count": null,
   "metadata": {},
   "outputs": [],
   "source": [
    "nba_rules_urls = [\n",
    "    \"https://official.nba.com/rule-no-1-court-dimensions-equipment/\",\n",
    "    \"https://official.nba.com/rule-no-2-duties-of-the-officials/\",\n",
    "    \"https://official.nba.com/rule-no-3-players-substitutes-and-coaches/\",\n",
    "    \"https://official.nba.com/rule-no-4-definitions/\",\n",
    "    \"https://official.nba.com/rule-no-5-scoring-and-timing/\",\n",
    "    \"https://official.nba.com/rule-no-6-putting-ball-in-play-live-dead-ball/\",\n",
    "    \"https://official.nba.com/rule-no-7-24-second-clock/\",\n",
    "    \"https://official.nba.com/rule-no-8-out-of-bounds-and-throw-in/\",\n",
    "    \"https://official.nba.com/rule-no-9-free-throws-and-penalties/\",\n",
    "    \"https://official.nba.com/rule-no-10-violations-and-penalties/\",\n",
    "    \"https://official.nba.com/rule-no-11-basket-interference-goaltending/\",\n",
    "    \"https://official.nba.com/rule-no-12-fouls-and-penalties/\",\n",
    "    \"https://official.nba.com/rule-no-13-instant-replay/\",\n",
    "    \"https://official.nba.com/rule-no-14-coaches-challenge/\"\n",
    "]"
   ]
  },
  {
   "cell_type": "markdown",
   "metadata": {},
   "source": [
    "To load the data, LangChain provides *DocumentLoaders*. There are different *DocumentLoaders* available for different input sources, e.g. PDFs, HTML, Markdown, etc."
   ]
  },
  {
   "cell_type": "code",
   "execution_count": null,
   "metadata": {},
   "outputs": [],
   "source": [
    "loader = WebBaseLoader(\n",
    "    web_paths=nba_rules_urls,\n",
    "    bs_kwargs=dict(parse_only=bs4.SoupStrainer(class_=\"col-xs-12 col-md-9\")),\n",
    ")\n",
    "\n",
    "nba_rules_docs = loader.load()"
   ]
  },
  {
   "cell_type": "code",
   "execution_count": null,
   "metadata": {},
   "outputs": [],
   "source": [
    "nba_rules_docs[0]"
   ]
  },
  {
   "cell_type": "markdown",
   "metadata": {},
   "source": [
    "Each document contains *page_content* and *metadata* (can be important in retrieval pipeline, e.g. improving performance with filtering based on attributes either manually or with SelfQueryRetriever)."
   ]
  },
  {
   "cell_type": "code",
   "execution_count": null,
   "metadata": {},
   "outputs": [],
   "source": [
    "nba_wiki_docs = WikipediaLoader(query=\"NBA\").load()\n",
    "nba_wiki_docs"
   ]
  },
  {
   "cell_type": "code",
   "execution_count": null,
   "metadata": {},
   "outputs": [],
   "source": [
    "docs = nba_rules_docs + nba_wiki_docs\n",
    "for player in [\"Luka Doncic\", \"Nikola Jokic\"]:\n",
    "    docs.append(WikipediaLoader(query=player, load_max_docs=1).load()[0])"
   ]
  },
  {
   "cell_type": "code",
   "execution_count": null,
   "metadata": {},
   "outputs": [],
   "source": [
    "len(docs)"
   ]
  },
  {
   "cell_type": "markdown",
   "metadata": {},
   "source": [
    "## Chunking / splitting\n",
    "The process of splitting original documents into smaller, more managable (in LLM terms) segments."
   ]
  },
  {
   "cell_type": "code",
   "execution_count": null,
   "metadata": {},
   "outputs": [],
   "source": [
    "len(nba_rules_docs[11].page_content)"
   ]
  },
  {
   "cell_type": "code",
   "execution_count": null,
   "metadata": {},
   "outputs": [],
   "source": [
    "encoding = tiktoken.encoding_for_model(\"gpt-3.5-turbo\")\n",
    "len(encoding.encode(nba_rules_docs[11].page_content))"
   ]
  },
  {
   "cell_type": "code",
   "execution_count": null,
   "metadata": {},
   "outputs": [],
   "source": [
    "splitter = RecursiveCharacterTextSplitter(chunk_size=1000, chunk_overlap=400)\n",
    "split_docs = splitter.split_documents(docs)"
   ]
  },
  {
   "cell_type": "code",
   "execution_count": null,
   "metadata": {},
   "outputs": [],
   "source": [
    "len(split_docs)"
   ]
  },
  {
   "cell_type": "markdown",
   "metadata": {},
   "source": [
    "## Embed & store"
   ]
  },
  {
   "cell_type": "code",
   "execution_count": null,
   "metadata": {},
   "outputs": [],
   "source": [
    "vectorstore = FAISS.from_documents(documents=split_docs, embedding=OpenAIEmbeddings())"
   ]
  },
  {
   "cell_type": "markdown",
   "metadata": {},
   "source": [
    "## Retrieve\n",
    "Start of the LLM application logic."
   ]
  },
  {
   "cell_type": "code",
   "execution_count": null,
   "metadata": {},
   "outputs": [],
   "source": [
    "retriever = vectorstore.as_retriever(search_kwargs={'k': 4})"
   ]
  },
  {
   "cell_type": "code",
   "execution_count": null,
   "metadata": {},
   "outputs": [],
   "source": [
    "retriever.get_relevant_documents(\"How old is Nikola Jokic?\")"
   ]
  },
  {
   "cell_type": "markdown",
   "metadata": {},
   "source": [
    "## Putting it all together"
   ]
  },
  {
   "cell_type": "code",
   "execution_count": null,
   "metadata": {},
   "outputs": [],
   "source": [
    "def format_docs(docs):\n",
    "    return \"\\n\\n\".join(doc.page_content for doc in docs)"
   ]
  },
  {
   "cell_type": "code",
   "execution_count": null,
   "metadata": {},
   "outputs": [],
   "source": [
    "prompt = \"\"\"You are a helpful assistant that answers NBA related question.\n",
    "Use the following pieces of context to answer the user question at the end.\n",
    "Your answers should be concise and to the point. If you don't know the answer, just say that you don't know, don't try to make up an answer.\n",
    "\n",
    "Context: {context}\n",
    "Question: {question}\n",
    "Answer:\"\"\"\n",
    "rag_prompt_template = PromptTemplate.from_template(prompt)"
   ]
  },
  {
   "cell_type": "code",
   "execution_count": null,
   "metadata": {},
   "outputs": [],
   "source": [
    "llm = ChatOpenAI(model_name=\"gpt-3.5-turbo\", temperature=0)"
   ]
  },
  {
   "cell_type": "code",
   "execution_count": null,
   "metadata": {},
   "outputs": [],
   "source": [
    "rag_chain = (\n",
    "    {\"context\": retriever | format_docs, \"question\": RunnablePassthrough()}\n",
    "    | rag_prompt_template\n",
    "    | llm\n",
    "    | StrOutputParser()\n",
    ")"
   ]
  },
  {
   "cell_type": "code",
   "execution_count": null,
   "metadata": {},
   "outputs": [],
   "source": [
    "print(rag_chain.invoke(\"How old is Nikola Jokic?\"))"
   ]
  },
  {
   "cell_type": "code",
   "execution_count": null,
   "metadata": {},
   "outputs": [],
   "source": [
    "print(rag_chain.invoke(\"How many referees are in a game?\"))"
   ]
  },
  {
   "cell_type": "code",
   "execution_count": null,
   "metadata": {},
   "outputs": [],
   "source": [
    "print(rag_chain.invoke(\"Which team has won the most NBA titles?\"))"
   ]
  },
  {
   "cell_type": "code",
   "execution_count": null,
   "metadata": {},
   "outputs": [],
   "source": [
    "print(rag_chain.invoke(\"What is the meaning of life?\"))"
   ]
  },
  {
   "cell_type": "markdown",
   "metadata": {},
   "source": [
    "Our RAG Chain is stateless, we would need to incorporate memory to add a conversational ability."
   ]
  },
  {
   "cell_type": "code",
   "execution_count": null,
   "metadata": {},
   "outputs": [],
   "source": [
    "print(rag_chain.invoke(\"How old is Nikola Jokic?\"))\n",
    "print(rag_chain.invoke(\"And how tall is he?\"))"
   ]
  },
  {
   "cell_type": "code",
   "execution_count": null,
   "metadata": {},
   "outputs": [],
   "source": [
    "print(rag_chain.invoke(\"How tall is Nikola Jokic?\"))"
   ]
  }
 ],
 "metadata": {
  "kernelspec": {
   "display_name": "Python 3",
   "language": "python",
   "name": "python3"
  },
  "language_info": {
   "codemirror_mode": {
    "name": "ipython",
    "version": 3
   },
   "file_extension": ".py",
   "mimetype": "text/x-python",
   "name": "python",
   "nbconvert_exporter": "python",
   "pygments_lexer": "ipython3",
   "version": "3.9.16"
  }
 },
 "nbformat": 4,
 "nbformat_minor": 2
}
